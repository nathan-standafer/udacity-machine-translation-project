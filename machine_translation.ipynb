{
 "cells": [
  {
   "cell_type": "markdown",
   "metadata": {
    "collapsed": true
   },
   "source": [
    "# Artificial Intelligence Nanodegree\n",
    "## Machine Translation Project\n",
    "In this notebook, sections that end with **'(IMPLEMENTATION)'** in the header indicate that the following blocks of code will require additional functionality which you must provide. Please be sure to read the instructions carefully!\n",
    "\n",
    "## Introduction\n",
    "In this notebook, you will build a deep neural network that functions as part of an end-to-end machine translation pipeline. Your completed pipeline will accept English text as input and return the French translation.\n",
    "\n",
    "- **Preprocess** - You'll convert text to sequence of integers.\n",
    "- **Models** Create models which accepts a sequence of integers as input and returns a probability distribution over possible translations. After learning about the basic types of neural networks that are often used for machine translation, you will engage in your own investigations, to design your own model!\n",
    "- **Prediction** Run the model on English text."
   ]
  },
  {
   "cell_type": "code",
   "execution_count": 1,
   "metadata": {},
   "outputs": [
    {
     "name": "stdout",
     "output_type": "stream",
     "text": [
      "Requirement already satisfied: keras in /usr/local/lib/python3.6/dist-packages (2.4.3)\n",
      "Requirement already satisfied: scipy>=0.14 in /usr/local/lib/python3.6/dist-packages (from keras) (1.4.1)\n",
      "Requirement already satisfied: h5py in /usr/local/lib/python3.6/dist-packages (from keras) (2.10.0)\n",
      "Requirement already satisfied: pyyaml in /usr/local/lib/python3.6/dist-packages (from keras) (5.3.1)\n",
      "Requirement already satisfied: numpy>=1.9.1 in /usr/local/lib/python3.6/dist-packages (from keras) (1.18.5)\n",
      "Requirement already satisfied: six in /usr/local/lib/python3.6/dist-packages (from h5py->keras) (1.15.0)\n",
      "\u001b[33mWARNING: You are using pip version 20.1.1; however, version 20.2.3 is available.\n",
      "You should consider upgrading via the '/usr/bin/python3 -m pip install --upgrade pip' command.\u001b[0m\n"
     ]
    }
   ],
   "source": [
    "%load_ext autoreload\n",
    "%aimport helper, tests\n",
    "%autoreload 1\n",
    "\n",
    "!pip install keras #only needed when running from tensorflow docker container"
   ]
  },
  {
   "cell_type": "code",
   "execution_count": 2,
   "metadata": {},
   "outputs": [],
   "source": [
    "import collections\n",
    "\n",
    "import helper\n",
    "import numpy as np\n",
    "import project_tests as tests\n",
    "\n",
    "from keras.preprocessing.text import Tokenizer\n",
    "from keras.preprocessing.sequence import pad_sequences\n",
    "from keras.models import Model\n",
    "from keras.layers import GRU, Input, Dense, TimeDistributed, Activation, RepeatVector, Bidirectional\n",
    "from keras.layers.embeddings import Embedding\n",
    "from keras.optimizers import Adam\n",
    "from keras.losses import sparse_categorical_crossentropy"
   ]
  },
  {
   "cell_type": "markdown",
   "metadata": {},
   "source": [
    "### Verify access to the GPU\n",
    "The following test applies only if you expect to be using a GPU, e.g., while running in a Udacity Workspace or using an AWS instance with GPU support. Run the next cell, and verify that the device_type is \"GPU\".\n",
    "- If the device is not GPU & you are running from a Udacity Workspace, then save your workspace with the icon at the top, then click \"enable\" at the bottom of the workspace.\n",
    "- If the device is not GPU & you are running from an AWS instance, then refer to the cloud computing instructions in the classroom to verify your setup steps."
   ]
  },
  {
   "cell_type": "code",
   "execution_count": 3,
   "metadata": {},
   "outputs": [
    {
     "name": "stdout",
     "output_type": "stream",
     "text": [
      "keras version: 2.4.3\n",
      "tensorflow version: 2.3.0\n",
      "[name: \"/device:CPU:0\"\n",
      "device_type: \"CPU\"\n",
      "memory_limit: 268435456\n",
      "locality {\n",
      "}\n",
      "incarnation: 10730224504940025092\n",
      ", name: \"/device:XLA_CPU:0\"\n",
      "device_type: \"XLA_CPU\"\n",
      "memory_limit: 17179869184\n",
      "locality {\n",
      "}\n",
      "incarnation: 7040116858334987708\n",
      "physical_device_desc: \"device: XLA_CPU device\"\n",
      ", name: \"/device:XLA_GPU:0\"\n",
      "device_type: \"XLA_GPU\"\n",
      "memory_limit: 17179869184\n",
      "locality {\n",
      "}\n",
      "incarnation: 3734509023726442669\n",
      "physical_device_desc: \"device: XLA_GPU device\"\n",
      ", name: \"/device:GPU:0\"\n",
      "device_type: \"GPU\"\n",
      "memory_limit: 10144673984\n",
      "locality {\n",
      "  bus_id: 1\n",
      "  links {\n",
      "  }\n",
      "}\n",
      "incarnation: 14760785701647995299\n",
      "physical_device_desc: \"device: 0, name: GeForce GTX 1080 Ti, pci bus id: 0000:07:00.0, compute capability: 6.1\"\n",
      "]\n"
     ]
    }
   ],
   "source": [
    "from tensorflow.python.client import device_lib\n",
    "import keras\n",
    "import tensorflow as tf\n",
    "print(\"keras version: {}\".format(keras.__version__))\n",
    "print(\"tensorflow version: {}\".format(tf.__version__))\n",
    "print(device_lib.list_local_devices())"
   ]
  },
  {
   "cell_type": "markdown",
   "metadata": {},
   "source": [
    "## Dataset\n",
    "We begin by investigating the dataset that will be used to train and evaluate your pipeline.  The most common datasets used for machine translation are from [WMT](http://www.statmt.org/).  However, that will take a long time to train a neural network on.  We'll be using a dataset we created for this project that contains a small vocabulary.  You'll be able to train your model in a reasonable time with this dataset.\n",
    "### Load Data\n",
    "The data is located in `data/small_vocab_en` and `data/small_vocab_fr`. The `small_vocab_en` file contains English sentences with their French translations in the `small_vocab_fr` file. Load the English and French data from these files from running the cell below."
   ]
  },
  {
   "cell_type": "code",
   "execution_count": 4,
   "metadata": {},
   "outputs": [
    {
     "name": "stdout",
     "output_type": "stream",
     "text": [
      "Dataset Loaded\n"
     ]
    }
   ],
   "source": [
    "# Load English data\n",
    "english_sentences = helper.load_data('data/small_vocab_en')\n",
    "# Load French data\n",
    "french_sentences = helper.load_data('data/small_vocab_fr')\n",
    "\n",
    "print('Dataset Loaded')"
   ]
  },
  {
   "cell_type": "markdown",
   "metadata": {},
   "source": [
    "### Files\n",
    "Each line in `small_vocab_en` contains an English sentence with the respective translation in each line of `small_vocab_fr`.  View the first two lines from each file."
   ]
  },
  {
   "cell_type": "code",
   "execution_count": 5,
   "metadata": {},
   "outputs": [
    {
     "name": "stdout",
     "output_type": "stream",
     "text": [
      "total sentences: 137861\n",
      "small_vocab_en Line 1:  new jersey is sometimes quiet during autumn , and it is snowy in april .\n",
      "small_vocab_fr Line 1:  new jersey est parfois calme pendant l' automne , et il est neigeux en avril .\n",
      "small_vocab_en Line 2:  the united states is usually chilly during july , and it is usually freezing in november .\n",
      "small_vocab_fr Line 2:  les états-unis est généralement froid en juillet , et il gèle habituellement en novembre .\n"
     ]
    }
   ],
   "source": [
    "print(\"total sentences: {}\".format(len(english_sentences)))\n",
    "\n",
    "for sample_i in range(2):\n",
    "    print('small_vocab_en Line {}:  {}'.format(sample_i + 1, english_sentences[sample_i]))\n",
    "    print('small_vocab_fr Line {}:  {}'.format(sample_i + 1, french_sentences[sample_i]))"
   ]
  },
  {
   "cell_type": "markdown",
   "metadata": {},
   "source": [
    "From looking at the sentences, you can see they have been preprocessed already.  The puncuations have been delimited using spaces. All the text have been converted to lowercase.  This should save you some time, but the text requires more preprocessing.\n",
    "### Vocabulary\n",
    "The complexity of the problem is determined by the complexity of the vocabulary.  A more complex vocabulary is a more complex problem.  Let's look at the complexity of the dataset we'll be working with."
   ]
  },
  {
   "cell_type": "code",
   "execution_count": 6,
   "metadata": {},
   "outputs": [
    {
     "name": "stdout",
     "output_type": "stream",
     "text": [
      "1823250 English words.\n",
      "227 unique English words.\n",
      "10 Most common words in the English dataset:\n",
      "\"is\" \",\" \".\" \"in\" \"it\" \"during\" \"the\" \"but\" \"and\" \"sometimes\"\n",
      "\n",
      "1961295 French words.\n",
      "355 unique French words.\n",
      "10 Most common words in the French dataset:\n",
      "\"est\" \".\" \",\" \"en\" \"il\" \"les\" \"mais\" \"et\" \"la\" \"parfois\"\n",
      "\n",
      "227 unique english words using a normal loop.\n"
     ]
    }
   ],
   "source": [
    "english_words_counter = collections.Counter([word for sentence in english_sentences for word in sentence.split()])\n",
    "french_words_counter = collections.Counter([word for sentence in french_sentences for word in sentence.split()])\n",
    "\n",
    "print('{} English words.'.format(len([word for sentence in english_sentences for word in sentence.split()])))\n",
    "print('{} unique English words.'.format(len(english_words_counter)))\n",
    "print('10 Most common words in the English dataset:')\n",
    "print('\"' + '\" \"'.join(list(zip(*english_words_counter.most_common(10)))[0]) + '\"')\n",
    "print()\n",
    "print('{} French words.'.format(len([word for sentence in french_sentences for word in sentence.split()])))\n",
    "print('{} unique French words.'.format(len(french_words_counter)))\n",
    "print('10 Most common words in the French dataset:')\n",
    "print('\"' + '\" \"'.join(list(zip(*french_words_counter.most_common(10)))[0]) + '\"')\n",
    "\n",
    "english_words_set = set()\n",
    "\n",
    "for sentence in english_sentences:\n",
    "    for word in sentence.split():\n",
    "        english_words_set.add(word)\n",
    "print (\"\\n{} unique english words using a normal loop.\".format(len(english_words_set)))"
   ]
  },
  {
   "cell_type": "markdown",
   "metadata": {},
   "source": [
    "For comparison, _Alice's Adventures in Wonderland_ contains 2,766 unique words of a total of 15,500 words.\n",
    "## Preprocess\n",
    "For this project, you won't use text data as input to your model. Instead, you'll convert the text into sequences of integers using the following preprocess methods:\n",
    "1. Tokenize the words into ids\n",
    "2. Add padding to make all the sequences the same length.\n",
    "\n",
    "Time to start preprocessing the data...\n",
    "### Tokenize (IMPLEMENTATION)\n",
    "For a neural network to predict on text data, it first has to be turned into data it can understand. Text data like \"dog\" is a sequence of ASCII character encodings.  Since a neural network is a series of multiplication and addition operations, the input data needs to be number(s).\n",
    "\n",
    "We can turn each character into a number or each word into a number.  These are called character and word ids, respectively.  Character ids are used for character level models that generate text predictions for each character.  A word level model uses word ids that generate text predictions for each word.  Word level models tend to learn better, since they are lower in complexity, so we'll use those.\n",
    "\n",
    "Turn each sentence into a sequence of words ids using Keras's [`Tokenizer`](https://keras.io/preprocessing/text/#tokenizer) function. Use this function to tokenize `english_sentences` and `french_sentences` in the cell below.\n",
    "\n",
    "Running the cell will run `tokenize` on sample data and show output for debugging."
   ]
  },
  {
   "cell_type": "code",
   "execution_count": 7,
   "metadata": {},
   "outputs": [
    {
     "name": "stdout",
     "output_type": "stream",
     "text": [
      "{'the': 1, 'quick': 2, 'a': 3, 'brown': 4, 'fox': 5, 'jumps': 6, 'over': 7, 'lazy': 8, 'dog': 9, 'by': 10, 'jove': 11, 'my': 12, 'study': 13, 'of': 14, 'lexicography': 15, 'won': 16, 'prize': 17, 'this': 18, 'is': 19, 'short': 20, 'sentence': 21}\n",
      "\n",
      "Sequence 1 in x\n",
      "  Input:  The quick brown fox jumps over the lazy dog .\n",
      "  Output: [1, 2, 4, 5, 6, 7, 1, 8, 9]\n",
      "Sequence 2 in x\n",
      "  Input:  By Jove , my quick study of lexicography won a prize .\n",
      "  Output: [10, 11, 12, 2, 13, 14, 15, 16, 3, 17]\n",
      "Sequence 3 in x\n",
      "  Input:  This is a short sentence .\n",
      "  Output: [18, 19, 3, 20, 21]\n"
     ]
    }
   ],
   "source": [
    "def tokenize(x):\n",
    "    \"\"\"\n",
    "    Tokenize x\n",
    "    :param x: List of sentences/strings to be tokenized\n",
    "    :return: Tuple of (tokenized x data, tokenizer used to tokenize x)\n",
    "    \"\"\"\n",
    "    # TODO: Implement\n",
    "    x_tk = Tokenizer()\n",
    "    x_tk.fit_on_texts(x)\n",
    "    \n",
    "    #return None, None\n",
    "    return x_tk.texts_to_sequences(x), x_tk\n",
    "\n",
    "tests.test_tokenize(tokenize)\n",
    "\n",
    "# Tokenize Example output\n",
    "text_sentences = [\n",
    "    'The quick brown fox jumps over the lazy dog .',\n",
    "    'By Jove , my quick study of lexicography won a prize .',\n",
    "    'This is a short sentence .']\n",
    "text_tokenized, text_tokenizer = tokenize(text_sentences)\n",
    "print(text_tokenizer.word_index)\n",
    "print()\n",
    "for sample_i, (sent, token_sent) in enumerate(zip(text_sentences, text_tokenized)):\n",
    "    print('Sequence {} in x'.format(sample_i + 1))\n",
    "    print('  Input:  {}'.format(sent))\n",
    "    print('  Output: {}'.format(token_sent))"
   ]
  },
  {
   "cell_type": "markdown",
   "metadata": {},
   "source": [
    "### Padding (IMPLEMENTATION)\n",
    "When batching the sequence of word ids together, each sequence needs to be the same length.  Since sentences are dynamic in length, we can add padding to the end of the sequences to make them the same length.\n",
    "\n",
    "Make sure all the English sequences have the same length and all the French sequences have the same length by adding padding to the **end** of each sequence using Keras's [`pad_sequences`](https://keras.io/preprocessing/sequence/#pad_sequences) function."
   ]
  },
  {
   "cell_type": "code",
   "execution_count": 8,
   "metadata": {},
   "outputs": [
    {
     "name": "stdout",
     "output_type": "stream",
     "text": [
      "Sequence 1 in x\n",
      "  Input:  [1 2 4 5 6 7 1 8 9]\n",
      "  Output: [1 2 4 5 6 7 1 8 9 0]\n",
      "Sequence 2 in x\n",
      "  Input:  [10 11 12  2 13 14 15 16  3 17]\n",
      "  Output: [10 11 12  2 13 14 15 16  3 17]\n",
      "Sequence 3 in x\n",
      "  Input:  [18 19  3 20 21]\n",
      "  Output: [18 19  3 20 21  0  0  0  0  0]\n"
     ]
    }
   ],
   "source": [
    "def pad(x, length=None):\n",
    "    \"\"\"\n",
    "    Pad x\n",
    "    :param x: List of sequences.\n",
    "    :param length: Length to pad the sequence to.  If None, use length of longest sequence in x.\n",
    "    :return: Padded numpy array of sequences\n",
    "    \"\"\"\n",
    "    # TODO: Implement\n",
    "    padded_sentences = pad_sequences(x, maxlen=length, padding='post') \n",
    "    return padded_sentences\n",
    "\n",
    "tests.test_pad(pad)\n",
    "\n",
    "# Pad Tokenized output\n",
    "test_pad = pad(text_tokenized)\n",
    "for sample_i, (token_sent, pad_sent) in enumerate(zip(text_tokenized, test_pad)):\n",
    "    print('Sequence {} in x'.format(sample_i + 1))\n",
    "    print('  Input:  {}'.format(np.array(token_sent)))\n",
    "    print('  Output: {}'.format(pad_sent))"
   ]
  },
  {
   "cell_type": "markdown",
   "metadata": {},
   "source": [
    "### Preprocess Pipeline\n",
    "Your focus for this project is to build neural network architecture, so we won't ask you to create a preprocess pipeline.  Instead, we've provided you with the implementation of the `preprocess` function."
   ]
  },
  {
   "cell_type": "code",
   "execution_count": 9,
   "metadata": {},
   "outputs": [
    {
     "name": "stdout",
     "output_type": "stream",
     "text": [
      "Data Preprocessed\n",
      "Max English sentence length: 15\n",
      "Max French sentence length: 21\n",
      "English vocabulary size: 199\n",
      "French vocabulary size: 344\n"
     ]
    }
   ],
   "source": [
    "def preprocess(x, y):\n",
    "    \"\"\"\n",
    "    Preprocess x and y\n",
    "    :param x: Feature List of sentences\n",
    "    :param y: Label List of sentences\n",
    "    :return: Tuple of (Preprocessed x, Preprocessed y, x tokenizer, y tokenizer)\n",
    "    \"\"\"\n",
    "    preprocess_x, x_tk = tokenize(x)\n",
    "    preprocess_y, y_tk = tokenize(y)\n",
    "\n",
    "    preprocess_x = pad(preprocess_x)\n",
    "    preprocess_y = pad(preprocess_y)\n",
    "\n",
    "    # Keras's sparse_categorical_crossentropy function requires the labels to be in 3 dimensions\n",
    "    preprocess_y = preprocess_y.reshape(*preprocess_y.shape, 1)\n",
    "\n",
    "    return preprocess_x, preprocess_y, x_tk, y_tk\n",
    "\n",
    "preproc_english_sentences, preproc_french_sentences, english_tokenizer, french_tokenizer =\\\n",
    "    preprocess(english_sentences, french_sentences)\n",
    "    \n",
    "max_english_sequence_length = preproc_english_sentences.shape[1]\n",
    "max_french_sequence_length = preproc_french_sentences.shape[1]\n",
    "english_vocab_size = len(english_tokenizer.word_index)\n",
    "french_vocab_size = len(french_tokenizer.word_index)\n",
    "\n",
    "print('Data Preprocessed')\n",
    "print(\"Max English sentence length:\", max_english_sequence_length)\n",
    "print(\"Max French sentence length:\", max_french_sequence_length)\n",
    "print(\"English vocabulary size:\", english_vocab_size)\n",
    "print(\"French vocabulary size:\", french_vocab_size)"
   ]
  },
  {
   "cell_type": "markdown",
   "metadata": {},
   "source": [
    "## Models\n",
    "In this section, you will experiment with various neural network architectures.\n",
    "You will begin by training four relatively simple architectures.\n",
    "- Model 1 is a simple RNN\n",
    "- Model 2 is a RNN with Embedding\n",
    "- Model 3 is a Bidirectional RNN\n",
    "- Model 4 is an optional Encoder-Decoder RNN\n",
    "\n",
    "After experimenting with the four simple architectures, you will construct a deeper architecture that is designed to outperform all four models.\n",
    "### Ids Back to Text\n",
    "The neural network will be translating the input to words ids, which isn't the final form we want.  We want the French translation.  The function `logits_to_text` will bridge the gab between the logits from the neural network to the French translation.  You'll be using this function to better understand the output of the neural network."
   ]
  },
  {
   "cell_type": "code",
   "execution_count": 10,
   "metadata": {},
   "outputs": [
    {
     "name": "stdout",
     "output_type": "stream",
     "text": [
      "`logits_to_text` function loaded.\n"
     ]
    }
   ],
   "source": [
    "def logits_to_text(logits, tokenizer):\n",
    "    \"\"\"\n",
    "    Turn logits from a neural network into text using the tokenizer\n",
    "    :param logits: Logits from a neural network\n",
    "    :param tokenizer: Keras Tokenizer fit on the labels\n",
    "    :return: String that represents the text of the logits\n",
    "    \"\"\"\n",
    "    index_to_words = {id: word for word, id in tokenizer.word_index.items()}\n",
    "    index_to_words[0] = '<PAD>'\n",
    "\n",
    "    return ' '.join([index_to_words[prediction] for prediction in np.argmax(logits, 1)])\n",
    "\n",
    "print('`logits_to_text` function loaded.')\n",
    "\n",
    "def tokens_to_text(tokens, tokenizer):\n",
    "    \"\"\"\n",
    "    Turn tokens into words\n",
    "    :param tokens: numpy array of tokens.  shape (1,length,1)\n",
    "    :param tokenizer: Keras Tokenizer fit on the labels\n",
    "    :return: String that represents the text of the tokens\n",
    "    \"\"\"\n",
    "    index_to_words = {id: word for word, id in tokenizer.word_index.items()}\n",
    "    index_to_words[0] = '<PAD>'\n",
    "\n",
    "    return_text = \"\"\n",
    "    \n",
    "    for token in tokens[0]:\n",
    "        if isinstance(token, np.ndarray):\n",
    "            return_text += index_to_words[token[0]]\n",
    "        else:\n",
    "            return_text += index_to_words[token]\n",
    "        return_text += ' '\n",
    "    \n",
    "    return return_text"
   ]
  },
  {
   "cell_type": "markdown",
   "metadata": {},
   "source": [
    "### Model 1: RNN (IMPLEMENTATION)\n",
    "![RNN](images/rnn.png)\n",
    "A basic RNN model is a good baseline for sequence data.  In this model, you'll build a RNN that translates English to French."
   ]
  },
  {
   "cell_type": "code",
   "execution_count": 11,
   "metadata": {},
   "outputs": [
    {
     "name": "stdout",
     "output_type": "stream",
     "text": [
      "input_shape: (137861, 21, 1)\n",
      "output_sequence_length: 21\n",
      "english_vocab_size: 199\n",
      "french_vocab_size: 344\n",
      "\n",
      "\n",
      "input_shape: (137861, 21, 1)\n",
      "output_sequence_length: 21\n",
      "english_vocab_size: 199\n",
      "french_vocab_size: 344\n",
      "\n",
      "\n",
      "Epoch 1/10\n",
      "108/108 [==============================] - 2s 16ms/step - loss: 3.4749 - accuracy: 0.4167 - val_loss: nan - val_accuracy: 0.4606\n",
      "Epoch 2/10\n",
      "108/108 [==============================] - 1s 13ms/step - loss: 2.4429 - accuracy: 0.4684 - val_loss: nan - val_accuracy: 0.4792\n",
      "Epoch 3/10\n",
      "108/108 [==============================] - 1s 13ms/step - loss: 2.2106 - accuracy: 0.5176 - val_loss: nan - val_accuracy: 0.5428\n",
      "Epoch 4/10\n",
      "108/108 [==============================] - 1s 13ms/step - loss: 1.9780 - accuracy: 0.5566 - val_loss: nan - val_accuracy: 0.5656\n",
      "Epoch 5/10\n",
      "108/108 [==============================] - 1s 13ms/step - loss: 1.8046 - accuracy: 0.5713 - val_loss: nan - val_accuracy: 0.5778\n",
      "Epoch 6/10\n",
      "108/108 [==============================] - 1s 13ms/step - loss: 1.7033 - accuracy: 0.5801 - val_loss: nan - val_accuracy: 0.5873\n",
      "Epoch 7/10\n",
      "108/108 [==============================] - 1s 13ms/step - loss: 1.6331 - accuracy: 0.5886 - val_loss: nan - val_accuracy: 0.5893\n",
      "Epoch 8/10\n",
      "108/108 [==============================] - 1s 13ms/step - loss: 1.5757 - accuracy: 0.5953 - val_loss: nan - val_accuracy: 0.6003\n",
      "Epoch 9/10\n",
      "108/108 [==============================] - 1s 13ms/step - loss: 1.5258 - accuracy: 0.6058 - val_loss: nan - val_accuracy: 0.6086\n",
      "Epoch 10/10\n",
      "108/108 [==============================] - 1s 13ms/step - loss: 1.4803 - accuracy: 0.6131 - val_loss: nan - val_accuracy: 0.6167\n",
      "new jersey est parfois parfois en en mais il est est en en <PAD> <PAD> <PAD> <PAD> <PAD> <PAD> <PAD> <PAD>\n"
     ]
    }
   ],
   "source": [
    "def simple_model(input_shape, output_sequence_length, english_vocab_size, french_vocab_size):\n",
    "    \"\"\"\n",
    "    Build and train a basic RNN on x and y\n",
    "    :param input_shape: Tuple of input shape\n",
    "    :param output_sequence_length: Length of output sequence\n",
    "    :param english_vocab_size: Number of unique English words in the dataset\n",
    "    :param french_vocab_size: Number of unique French words in the dataset\n",
    "    :return: Keras model built, but not trained\n",
    "    \"\"\"\n",
    "    # TODO: Build the layers\n",
    "    print(\"input_shape: {}\".format(input_shape))\n",
    "    print(\"output_sequence_length: {}\".format(output_sequence_length))\n",
    "    print(\"english_vocab_size: {}\".format(english_vocab_size))\n",
    "    print(\"french_vocab_size: {}\".format(french_vocab_size))\n",
    "    print(\"\\n\")\n",
    "\n",
    "    input_seq = Input(input_shape[1:])\n",
    "    rnn = GRU(64, return_sequences=True)(input_seq)\n",
    "    logits = TimeDistributed(Dense(french_vocab_size))(rnn)\n",
    "\n",
    "    model = Model(input_seq, Activation('softmax')(logits))\n",
    "    \n",
    "    learning_rate = 1e-3 \n",
    "    model.compile(loss=sparse_categorical_crossentropy,\n",
    "                  optimizer=Adam(learning_rate),\n",
    "                  metrics=['accuracy'])\n",
    "    return model\n",
    "\n",
    "tests.test_simple_model(simple_model)\n",
    "\n",
    "# Reshaping the input to work with a basic RNN\n",
    "tmp_x = pad(preproc_english_sentences, max_french_sequence_length)\n",
    "tmp_x = tmp_x.reshape((-1, preproc_french_sentences.shape[-2], 1))\n",
    "\n",
    "# Train the neural network\n",
    "simple_rnn_model = simple_model(\n",
    "    tmp_x.shape,\n",
    "    max_french_sequence_length,\n",
    "    english_vocab_size,\n",
    "    french_vocab_size)\n",
    "simple_rnn_model.fit(tmp_x, preproc_french_sentences, batch_size=1024, epochs=10, validation_split=0.2)\n",
    "\n",
    "\n",
    "# Print prediction(s)\n",
    "print(logits_to_text(simple_rnn_model.predict(tmp_x[:1])[0], french_tokenizer))"
   ]
  },
  {
   "cell_type": "code",
   "execution_count": 13,
   "metadata": {},
   "outputs": [
    {
     "name": "stdout",
     "output_type": "stream",
     "text": [
      "english: new jersey is sometimes quiet during autumn and it is snowy in april         \n",
      "french:  new jersey est parfois parfois en en mais il est est en en        \n",
      "\n",
      "\n",
      "english: the united states is usually chilly during july and it is usually freezing in november       \n",
      "french:  la états unis est jamais chaud en en mais il est est agréable en en      \n",
      "\n",
      "\n",
      "english: california is usually quiet during march and it is usually hot in june         \n",
      "french:  new est est jamais en en et il est est est en en        \n",
      "\n",
      "\n",
      "english: the united states is sometimes mild during june and it is cold in september        \n",
      "french:  la états unis est parfois parfois en en mais il est est en en       \n",
      "\n",
      "\n",
      "english: your least liked fruit is the grape but my least liked is the apple        \n",
      "french:  elle fruit le moins aimé la la mais son moins aimé aimé la la       \n",
      "\n",
      "\n",
      "english: his favorite fruit is the orange but my favorite is the grape          \n",
      "french:  elle fruit préféré est la la mais son préféré est la la         \n",
      "\n",
      "\n",
      "english: paris is relaxing during december but it is usually chilly in july          \n",
      "french:  new est est en en et il est est est en en         \n",
      "\n",
      "\n",
      "english: new jersey is busy during spring and it is never hot in march         \n",
      "french:  new jersey est est en l' et il est est jamais en en        \n",
      "\n",
      "\n",
      "english: our least liked fruit is the lemon but my least liked is the grape        \n",
      "french:  elle fruit le moins aimé la la mais son moins plus aimé la la       \n",
      "\n",
      "\n",
      "english: the united states is sometimes busy during january and it is sometimes warm in november       \n",
      "french:  la états unis est parfois parfois en en mais il est est parfois en en      \n",
      "\n",
      "\n"
     ]
    }
   ],
   "source": [
    "# Print prediction(s)\n",
    "for i in range(10):\n",
    "    print(\"english:\", tokens_to_text(tmp_x[i:i+1], english_tokenizer).replace('<PAD>', ''))\n",
    "    prediction = simple_rnn_model.predict(tmp_x[i:i+1])\n",
    "    print(\"french: \", logits_to_text(prediction[0], french_tokenizer).replace('<PAD>', ''))\n",
    "    print(\"\\n\")"
   ]
  },
  {
   "cell_type": "markdown",
   "metadata": {},
   "source": [
    "### Model 2: Embedding (IMPLEMENTATION)\n",
    "![RNN](images/embedding.png)\n",
    "You've turned the words into ids, but there's a better representation of a word.  This is called word embeddings.  An embedding is a vector representation of the word that is close to similar words in n-dimensional space, where the n represents the size of the embedding vectors.\n",
    "\n",
    "In this model, you'll create a RNN model using embedding."
   ]
  },
  {
   "cell_type": "code",
   "execution_count": 14,
   "metadata": {},
   "outputs": [
    {
     "name": "stdout",
     "output_type": "stream",
     "text": [
      "input_shape: (137861, 21)\n",
      "output_sequence_length: 21\n",
      "english_vocab_size: 199\n",
      "french_vocab_size: 344\n",
      "input_seq.shape: (None, 21)\n",
      "embedding.shape: (None, 21, 64)\n",
      "\n",
      "\n",
      "input_shape: (137861, 21)\n",
      "output_sequence_length: 21\n",
      "english_vocab_size: 199\n",
      "french_vocab_size: 344\n",
      "input_seq.shape: (None, 21)\n",
      "embedding.shape: (None, 21, 64)\n",
      "\n",
      "\n",
      "Epoch 1/10\n",
      "108/108 [==============================] - 2s 18ms/step - loss: 3.7481 - accuracy: 0.4011 - val_loss: nan - val_accuracy: 0.4093\n",
      "Epoch 2/10\n",
      "108/108 [==============================] - 2s 15ms/step - loss: 2.6350 - accuracy: 0.4574 - val_loss: nan - val_accuracy: 0.5206\n",
      "Epoch 3/10\n",
      "108/108 [==============================] - 2s 15ms/step - loss: 1.9185 - accuracy: 0.5683 - val_loss: nan - val_accuracy: 0.6172\n",
      "Epoch 4/10\n",
      "108/108 [==============================] - 2s 16ms/step - loss: 1.4235 - accuracy: 0.6547 - val_loss: nan - val_accuracy: 0.6950\n",
      "Epoch 5/10\n",
      "108/108 [==============================] - 2s 15ms/step - loss: 1.1110 - accuracy: 0.7274 - val_loss: nan - val_accuracy: 0.7532\n",
      "Epoch 6/10\n",
      "108/108 [==============================] - 2s 16ms/step - loss: 0.9201 - accuracy: 0.7667 - val_loss: nan - val_accuracy: 0.7810\n",
      "Epoch 7/10\n",
      "108/108 [==============================] - 2s 16ms/step - loss: 0.7941 - accuracy: 0.7900 - val_loss: nan - val_accuracy: 0.8003\n",
      "Epoch 8/10\n",
      "108/108 [==============================] - 2s 16ms/step - loss: 0.7055 - accuracy: 0.8085 - val_loss: nan - val_accuracy: 0.8168\n",
      "Epoch 9/10\n",
      "108/108 [==============================] - 2s 16ms/step - loss: 0.6378 - accuracy: 0.8232 - val_loss: nan - val_accuracy: 0.8296\n",
      "Epoch 10/10\n",
      "108/108 [==============================] - 2s 16ms/step - loss: 0.5854 - accuracy: 0.8342 - val_loss: nan - val_accuracy: 0.8390\n",
      "new jersey est parfois calme en l' et il il neigeux neigeux en avril <PAD> <PAD> <PAD> <PAD> <PAD> <PAD> <PAD>\n"
     ]
    }
   ],
   "source": [
    "def embed_model(input_shape, output_sequence_length, english_vocab_size, french_vocab_size):\n",
    "    \"\"\"\n",
    "    Build and train a RNN model using word embedding on x and y\n",
    "    :param input_shape: Tuple of input shape\n",
    "    :param output_sequence_length: Length of output sequence\n",
    "    :param english_vocab_size: Number of unique English words in the dataset\n",
    "    :param french_vocab_size: Number of unique French words in the dataset\n",
    "    :return: Keras model built, but not trained\n",
    "    \"\"\"\n",
    "    # TODO: Implement\n",
    "    print(\"input_shape: {}\".format(input_shape))\n",
    "    print(\"output_sequence_length: {}\".format(output_sequence_length))\n",
    "    print(\"english_vocab_size: {}\".format(english_vocab_size))\n",
    "    print(\"french_vocab_size: {}\".format(french_vocab_size))\n",
    "\n",
    "    input_seq = Input(input_shape[1:])\n",
    "    print(\"input_seq.shape: {}\".format(input_seq.shape))\n",
    "    embedding = Embedding(english_vocab_size+1, 64, input_length=input_shape[1])(input_seq)\n",
    "    print(\"embedding.shape: {}\".format(embedding.shape))\n",
    "    print(\"\\n\")\n",
    "    rnn = GRU(64, return_sequences=True)(embedding)\n",
    "    logits = TimeDistributed(Dense(french_vocab_size))(rnn)\n",
    "\n",
    "    model = Model(input_seq, Activation('softmax')(logits))\n",
    "    \n",
    "    learning_rate = 1e-3 \n",
    "    model.compile(loss=sparse_categorical_crossentropy,\n",
    "                  optimizer=Adam(learning_rate),\n",
    "                  metrics=['accuracy'])\n",
    "    return model\n",
    "\n",
    "tests.test_embed_model(embed_model)\n",
    "\n",
    "tmp_x = pad(preproc_english_sentences, max_french_sequence_length)\n",
    "\n",
    "# TODO: Train the neural network\n",
    "simple_embed_model = embed_model(\n",
    "    tmp_x.shape,\n",
    "    max_french_sequence_length,\n",
    "    english_vocab_size,\n",
    "    french_vocab_size)\n",
    "simple_embed_model.fit(tmp_x, preproc_french_sentences, batch_size=1024, epochs=10, validation_split=0.2)\n",
    "\n",
    "# Print prediction(s)\n",
    "print(logits_to_text(simple_embed_model.predict(tmp_x[:1])[0], french_tokenizer))"
   ]
  },
  {
   "cell_type": "code",
   "execution_count": 17,
   "metadata": {},
   "outputs": [
    {
     "name": "stdout",
     "output_type": "stream",
     "text": [
      "english:  new jersey is sometimes quiet during autumn and it is snowy in april         \n",
      "french:   new jersey est parfois calme en l' et il il neigeux neigeux en avril       \n",
      "\n",
      "\n",
      "english:  the united states is usually chilly during july and it is usually freezing in november       \n",
      "french:   les états unis est généralement froid en juillet et il est généralement en en novembre      \n",
      "\n",
      "\n",
      "english:  california is usually quiet during march and it is usually hot in june         \n",
      "french:   californie est généralement calme en mars et il est est chaud chaud juin        \n",
      "\n",
      "\n",
      "english:  the united states is sometimes mild during june and it is cold in september        \n",
      "french:   les états unis est parfois doux en juin et il est froid en septembre       \n",
      "\n",
      "\n",
      "english:  your least liked fruit is the grape but my least liked is the apple        \n",
      "french:   votre fruit moins moins aimé la raisin mais mon moins aimé est la pomme       \n",
      "\n",
      "\n",
      "english:  his favorite fruit is the orange but my favorite is the grape          \n",
      "french:   son fruit préféré est la mais mais préféré             \n",
      "\n",
      "\n",
      "english:  paris is relaxing during december but it is usually chilly in july          \n",
      "french:   paris est relaxant au décembre mais il est généralement froid en juillet         \n",
      "\n",
      "\n",
      "english:  new jersey is busy during spring and it is never hot in march         \n",
      "french:   new jersey est occupé en printemps et il est jamais chaud en mars        \n",
      "\n",
      "\n",
      "english:  our least liked fruit is the lemon but my least liked is the grape        \n",
      "french:   notre fruit moins moins aimé la citron mais mon moins aimé est la raisin       \n",
      "\n",
      "\n",
      "english:  the united states is sometimes busy during january and it is sometimes warm in november       \n",
      "french:   les états unis est parfois occupé en janvier et il est parfois chaud en novembre      \n",
      "\n",
      "\n"
     ]
    }
   ],
   "source": [
    "# Print prediction(s)\n",
    "for i in range(10):\n",
    "    print(\"english: \", tokens_to_text(tmp_x[i:i+1], english_tokenizer).replace('<PAD>', ''))\n",
    "    prediction = simple_embed_model.predict(tmp_x[i:i+1])\n",
    "    print(\"french:  \", logits_to_text(prediction[0], french_tokenizer).replace('<PAD>', ''))\n",
    "    print(\"\\n\")"
   ]
  },
  {
   "cell_type": "markdown",
   "metadata": {},
   "source": [
    "### Model 3: Bidirectional RNNs (IMPLEMENTATION)\n",
    "![RNN](images/bidirectional.png)\n",
    "One restriction of a RNN is that it can't see the future input, only the past.  This is where bidirectional recurrent neural networks come in.  They are able to see the future data."
   ]
  },
  {
   "cell_type": "code",
   "execution_count": 18,
   "metadata": {},
   "outputs": [
    {
     "name": "stdout",
     "output_type": "stream",
     "text": [
      "input_shape: (137861, 21, 1)\n",
      "output_sequence_length: 21\n",
      "english_vocab_size: 199\n",
      "french_vocab_size: 344\n",
      "input_seq.shape: (None, 21, 1)\n",
      "embedding.shape: (None, 21, 1, 64)\n",
      "\n",
      "\n"
     ]
    },
    {
     "ename": "ValueError",
     "evalue": "Input 0 of layer bidirectional is incompatible with the layer: expected ndim=3, found ndim=4. Full shape received: [None, 21, 1, 64]",
     "output_type": "error",
     "traceback": [
      "\u001b[0;31m---------------------------------------------------------------------------\u001b[0m",
      "\u001b[0;31mValueError\u001b[0m                                Traceback (most recent call last)",
      "\u001b[0;32m<ipython-input-18-b1842d6b7209>\u001b[0m in \u001b[0;36m<module>\u001b[0;34m\u001b[0m\n\u001b[1;32m     34\u001b[0m     \u001b[0;32mreturn\u001b[0m \u001b[0mmodel\u001b[0m\u001b[0;34m\u001b[0m\u001b[0;34m\u001b[0m\u001b[0m\n\u001b[1;32m     35\u001b[0m \u001b[0;34m\u001b[0m\u001b[0m\n\u001b[0;32m---> 36\u001b[0;31m \u001b[0mtests\u001b[0m\u001b[0;34m.\u001b[0m\u001b[0mtest_bd_model\u001b[0m\u001b[0;34m(\u001b[0m\u001b[0mbd_model\u001b[0m\u001b[0;34m)\u001b[0m\u001b[0;34m\u001b[0m\u001b[0;34m\u001b[0m\u001b[0m\n\u001b[0m\u001b[1;32m     37\u001b[0m \u001b[0;34m\u001b[0m\u001b[0m\n\u001b[1;32m     38\u001b[0m \u001b[0;31m# TODO: Train and Print prediction(s)\u001b[0m\u001b[0;34m\u001b[0m\u001b[0;34m\u001b[0m\u001b[0;34m\u001b[0m\u001b[0m\n",
      "\u001b[0;32m/tf/notebooks/udacity-machine-translation-project/project_tests.py\u001b[0m in \u001b[0;36mtest_bd_model\u001b[0;34m(bd_model)\u001b[0m\n\u001b[1;32m     90\u001b[0m     \u001b[0mfrench_vocab_size\u001b[0m \u001b[0;34m=\u001b[0m \u001b[0;36m344\u001b[0m\u001b[0;34m\u001b[0m\u001b[0;34m\u001b[0m\u001b[0m\n\u001b[1;32m     91\u001b[0m \u001b[0;34m\u001b[0m\u001b[0m\n\u001b[0;32m---> 92\u001b[0;31m     \u001b[0mmodel\u001b[0m \u001b[0;34m=\u001b[0m \u001b[0mbd_model\u001b[0m\u001b[0;34m(\u001b[0m\u001b[0minput_shape\u001b[0m\u001b[0;34m,\u001b[0m \u001b[0moutput_sequence_length\u001b[0m\u001b[0;34m,\u001b[0m \u001b[0menglish_vocab_size\u001b[0m\u001b[0;34m,\u001b[0m \u001b[0mfrench_vocab_size\u001b[0m\u001b[0;34m)\u001b[0m\u001b[0;34m\u001b[0m\u001b[0;34m\u001b[0m\u001b[0m\n\u001b[0m\u001b[1;32m     93\u001b[0m     \u001b[0m_test_model\u001b[0m\u001b[0;34m(\u001b[0m\u001b[0mmodel\u001b[0m\u001b[0;34m,\u001b[0m \u001b[0minput_shape\u001b[0m\u001b[0;34m,\u001b[0m \u001b[0moutput_sequence_length\u001b[0m\u001b[0;34m,\u001b[0m \u001b[0mfrench_vocab_size\u001b[0m\u001b[0;34m)\u001b[0m\u001b[0;34m\u001b[0m\u001b[0;34m\u001b[0m\u001b[0m\n\u001b[1;32m     94\u001b[0m \u001b[0;34m\u001b[0m\u001b[0m\n",
      "\u001b[0;32m<ipython-input-18-b1842d6b7209>\u001b[0m in \u001b[0;36mbd_model\u001b[0;34m(input_shape, output_sequence_length, english_vocab_size, french_vocab_size)\u001b[0m\n\u001b[1;32m     22\u001b[0m     \u001b[0mforward_layer\u001b[0m  \u001b[0;34m=\u001b[0m \u001b[0mGRU\u001b[0m\u001b[0;34m(\u001b[0m\u001b[0;36m64\u001b[0m\u001b[0;34m,\u001b[0m \u001b[0mreturn_sequences\u001b[0m\u001b[0;34m=\u001b[0m\u001b[0;32mTrue\u001b[0m\u001b[0;34m)\u001b[0m\u001b[0;34m\u001b[0m\u001b[0;34m\u001b[0m\u001b[0m\n\u001b[1;32m     23\u001b[0m     \u001b[0mbackward_layer\u001b[0m \u001b[0;34m=\u001b[0m \u001b[0mGRU\u001b[0m\u001b[0;34m(\u001b[0m\u001b[0;36m64\u001b[0m\u001b[0;34m,\u001b[0m \u001b[0mreturn_sequences\u001b[0m\u001b[0;34m=\u001b[0m\u001b[0;32mTrue\u001b[0m\u001b[0;34m,\u001b[0m \u001b[0mgo_backwards\u001b[0m\u001b[0;34m=\u001b[0m\u001b[0;32mTrue\u001b[0m\u001b[0;34m)\u001b[0m\u001b[0;34m\u001b[0m\u001b[0;34m\u001b[0m\u001b[0m\n\u001b[0;32m---> 24\u001b[0;31m     \u001b[0mrnn\u001b[0m \u001b[0;34m=\u001b[0m \u001b[0mBidirectional\u001b[0m\u001b[0;34m(\u001b[0m\u001b[0mforward_layer\u001b[0m\u001b[0;34m,\u001b[0m \u001b[0mbackward_layer\u001b[0m\u001b[0;34m=\u001b[0m\u001b[0mbackward_layer\u001b[0m\u001b[0;34m)\u001b[0m\u001b[0;34m(\u001b[0m\u001b[0membedding\u001b[0m\u001b[0;34m)\u001b[0m\u001b[0;34m\u001b[0m\u001b[0;34m\u001b[0m\u001b[0m\n\u001b[0m\u001b[1;32m     25\u001b[0m \u001b[0;34m\u001b[0m\u001b[0m\n\u001b[1;32m     26\u001b[0m     \u001b[0mlogits\u001b[0m \u001b[0;34m=\u001b[0m \u001b[0mTimeDistributed\u001b[0m\u001b[0;34m(\u001b[0m\u001b[0mDense\u001b[0m\u001b[0;34m(\u001b[0m\u001b[0mfrench_vocab_size\u001b[0m\u001b[0;34m)\u001b[0m\u001b[0;34m)\u001b[0m\u001b[0;34m(\u001b[0m\u001b[0mrnn\u001b[0m\u001b[0;34m)\u001b[0m\u001b[0;34m\u001b[0m\u001b[0;34m\u001b[0m\u001b[0m\n",
      "\u001b[0;32m/usr/local/lib/python3.6/dist-packages/tensorflow/python/keras/layers/wrappers.py\u001b[0m in \u001b[0;36m__call__\u001b[0;34m(self, inputs, initial_state, constants, **kwargs)\u001b[0m\n\u001b[1;32m    528\u001b[0m \u001b[0;34m\u001b[0m\u001b[0m\n\u001b[1;32m    529\u001b[0m     \u001b[0;32mif\u001b[0m \u001b[0minitial_state\u001b[0m \u001b[0;32mis\u001b[0m \u001b[0;32mNone\u001b[0m \u001b[0;32mand\u001b[0m \u001b[0mconstants\u001b[0m \u001b[0;32mis\u001b[0m \u001b[0;32mNone\u001b[0m\u001b[0;34m:\u001b[0m\u001b[0;34m\u001b[0m\u001b[0;34m\u001b[0m\u001b[0m\n\u001b[0;32m--> 530\u001b[0;31m       \u001b[0;32mreturn\u001b[0m \u001b[0msuper\u001b[0m\u001b[0;34m(\u001b[0m\u001b[0mBidirectional\u001b[0m\u001b[0;34m,\u001b[0m \u001b[0mself\u001b[0m\u001b[0;34m)\u001b[0m\u001b[0;34m.\u001b[0m\u001b[0m__call__\u001b[0m\u001b[0;34m(\u001b[0m\u001b[0minputs\u001b[0m\u001b[0;34m,\u001b[0m \u001b[0;34m**\u001b[0m\u001b[0mkwargs\u001b[0m\u001b[0;34m)\u001b[0m\u001b[0;34m\u001b[0m\u001b[0;34m\u001b[0m\u001b[0m\n\u001b[0m\u001b[1;32m    531\u001b[0m \u001b[0;34m\u001b[0m\u001b[0m\n\u001b[1;32m    532\u001b[0m     \u001b[0;31m# Applies the same workaround as in `RNN.__call__`\u001b[0m\u001b[0;34m\u001b[0m\u001b[0;34m\u001b[0m\u001b[0;34m\u001b[0m\u001b[0m\n",
      "\u001b[0;32m/usr/local/lib/python3.6/dist-packages/tensorflow/python/keras/engine/base_layer.py\u001b[0m in \u001b[0;36m__call__\u001b[0;34m(self, *args, **kwargs)\u001b[0m\n\u001b[1;32m    924\u001b[0m     \u001b[0;32mif\u001b[0m \u001b[0m_in_functional_construction_mode\u001b[0m\u001b[0;34m(\u001b[0m\u001b[0mself\u001b[0m\u001b[0;34m,\u001b[0m \u001b[0minputs\u001b[0m\u001b[0;34m,\u001b[0m \u001b[0margs\u001b[0m\u001b[0;34m,\u001b[0m \u001b[0mkwargs\u001b[0m\u001b[0;34m,\u001b[0m \u001b[0minput_list\u001b[0m\u001b[0;34m)\u001b[0m\u001b[0;34m:\u001b[0m\u001b[0;34m\u001b[0m\u001b[0;34m\u001b[0m\u001b[0m\n\u001b[1;32m    925\u001b[0m       return self._functional_construction_call(inputs, args, kwargs,\n\u001b[0;32m--> 926\u001b[0;31m                                                 input_list)\n\u001b[0m\u001b[1;32m    927\u001b[0m \u001b[0;34m\u001b[0m\u001b[0m\n\u001b[1;32m    928\u001b[0m     \u001b[0;31m# Maintains info about the `Layer.call` stack.\u001b[0m\u001b[0;34m\u001b[0m\u001b[0;34m\u001b[0m\u001b[0;34m\u001b[0m\u001b[0m\n",
      "\u001b[0;32m/usr/local/lib/python3.6/dist-packages/tensorflow/python/keras/engine/base_layer.py\u001b[0m in \u001b[0;36m_functional_construction_call\u001b[0;34m(self, inputs, args, kwargs, input_list)\u001b[0m\n\u001b[1;32m   1090\u001b[0m       \u001b[0;31m# TODO(reedwm): We should assert input compatibility after the inputs\u001b[0m\u001b[0;34m\u001b[0m\u001b[0;34m\u001b[0m\u001b[0;34m\u001b[0m\u001b[0m\n\u001b[1;32m   1091\u001b[0m       \u001b[0;31m# are casted, not before.\u001b[0m\u001b[0;34m\u001b[0m\u001b[0;34m\u001b[0m\u001b[0;34m\u001b[0m\u001b[0m\n\u001b[0;32m-> 1092\u001b[0;31m       \u001b[0minput_spec\u001b[0m\u001b[0;34m.\u001b[0m\u001b[0massert_input_compatibility\u001b[0m\u001b[0;34m(\u001b[0m\u001b[0mself\u001b[0m\u001b[0;34m.\u001b[0m\u001b[0minput_spec\u001b[0m\u001b[0;34m,\u001b[0m \u001b[0minputs\u001b[0m\u001b[0;34m,\u001b[0m \u001b[0mself\u001b[0m\u001b[0;34m.\u001b[0m\u001b[0mname\u001b[0m\u001b[0;34m)\u001b[0m\u001b[0;34m\u001b[0m\u001b[0;34m\u001b[0m\u001b[0m\n\u001b[0m\u001b[1;32m   1093\u001b[0m       \u001b[0mgraph\u001b[0m \u001b[0;34m=\u001b[0m \u001b[0mbackend\u001b[0m\u001b[0;34m.\u001b[0m\u001b[0mget_graph\u001b[0m\u001b[0;34m(\u001b[0m\u001b[0;34m)\u001b[0m\u001b[0;34m\u001b[0m\u001b[0;34m\u001b[0m\u001b[0m\n\u001b[1;32m   1094\u001b[0m       \u001b[0;31m# Use `self._name_scope()` to avoid auto-incrementing the name.\u001b[0m\u001b[0;34m\u001b[0m\u001b[0;34m\u001b[0m\u001b[0;34m\u001b[0m\u001b[0m\n",
      "\u001b[0;32m/usr/local/lib/python3.6/dist-packages/tensorflow/python/keras/engine/input_spec.py\u001b[0m in \u001b[0;36massert_input_compatibility\u001b[0;34m(input_spec, inputs, layer_name)\u001b[0m\n\u001b[1;32m    178\u001b[0m                          \u001b[0;34m'expected ndim='\u001b[0m \u001b[0;34m+\u001b[0m \u001b[0mstr\u001b[0m\u001b[0;34m(\u001b[0m\u001b[0mspec\u001b[0m\u001b[0;34m.\u001b[0m\u001b[0mndim\u001b[0m\u001b[0;34m)\u001b[0m \u001b[0;34m+\u001b[0m \u001b[0;34m', found ndim='\u001b[0m \u001b[0;34m+\u001b[0m\u001b[0;34m\u001b[0m\u001b[0;34m\u001b[0m\u001b[0m\n\u001b[1;32m    179\u001b[0m                          \u001b[0mstr\u001b[0m\u001b[0;34m(\u001b[0m\u001b[0mndim\u001b[0m\u001b[0;34m)\u001b[0m \u001b[0;34m+\u001b[0m \u001b[0;34m'. Full shape received: '\u001b[0m \u001b[0;34m+\u001b[0m\u001b[0;34m\u001b[0m\u001b[0;34m\u001b[0m\u001b[0m\n\u001b[0;32m--> 180\u001b[0;31m                          str(x.shape.as_list()))\n\u001b[0m\u001b[1;32m    181\u001b[0m     \u001b[0;32mif\u001b[0m \u001b[0mspec\u001b[0m\u001b[0;34m.\u001b[0m\u001b[0mmax_ndim\u001b[0m \u001b[0;32mis\u001b[0m \u001b[0;32mnot\u001b[0m \u001b[0;32mNone\u001b[0m\u001b[0;34m:\u001b[0m\u001b[0;34m\u001b[0m\u001b[0;34m\u001b[0m\u001b[0m\n\u001b[1;32m    182\u001b[0m       \u001b[0mndim\u001b[0m \u001b[0;34m=\u001b[0m \u001b[0mx\u001b[0m\u001b[0;34m.\u001b[0m\u001b[0mshape\u001b[0m\u001b[0;34m.\u001b[0m\u001b[0mndims\u001b[0m\u001b[0;34m\u001b[0m\u001b[0;34m\u001b[0m\u001b[0m\n",
      "\u001b[0;31mValueError\u001b[0m: Input 0 of layer bidirectional is incompatible with the layer: expected ndim=3, found ndim=4. Full shape received: [None, 21, 1, 64]"
     ]
    }
   ],
   "source": [
    "def bd_model(input_shape, output_sequence_length, english_vocab_size, french_vocab_size):\n",
    "    \"\"\"\n",
    "    Build and train a bidirectional RNN model on x and y\n",
    "    :param input_shape: Tuple of input shape\n",
    "    :param output_sequence_length: Length of output sequence\n",
    "    :param english_vocab_size: Number of unique English words in the dataset\n",
    "    :param french_vocab_size: Number of unique French words in the dataset\n",
    "    :return: Keras model built, but not trained\n",
    "    \"\"\"\n",
    "    # TODO: Implement\n",
    "    print(\"input_shape: {}\".format(input_shape))\n",
    "    print(\"output_sequence_length: {}\".format(output_sequence_length))\n",
    "    print(\"english_vocab_size: {}\".format(english_vocab_size))\n",
    "    print(\"french_vocab_size: {}\".format(french_vocab_size))\n",
    "\n",
    "    input_seq = Input(input_shape[1:])\n",
    "    print(\"input_seq.shape: {}\".format(input_seq.shape))\n",
    "    embedding = Embedding(english_vocab_size+1, 64, input_length=input_shape[1])(input_seq)\n",
    "    print(\"embedding.shape: {}\".format(embedding.shape))\n",
    "    print(\"\\n\")\n",
    "    \n",
    "    forward_layer  = GRU(64, return_sequences=True)\n",
    "    backward_layer = GRU(64, return_sequences=True, go_backwards=True)\n",
    "    rnn = Bidirectional(forward_layer, backward_layer=backward_layer)(embedding)\n",
    "    \n",
    "    logits = TimeDistributed(Dense(french_vocab_size))(rnn)\n",
    "\n",
    "    model = Model(input_seq, Activation('softmax')(logits))\n",
    "    \n",
    "    learning_rate = 1e-3 \n",
    "    model.compile(loss=sparse_categorical_crossentropy,\n",
    "                  optimizer=Adam(learning_rate),\n",
    "                  metrics=['accuracy'])\n",
    "    return model\n",
    "\n",
    "tests.test_bd_model(bd_model)\n",
    "\n",
    "# TODO: Train and Print prediction(s)\n",
    "# Reshape the input\n",
    "tmp_x = pad(preproc_english_sentences, max_french_sequence_length)\n",
    "#tmp_x = tmp_x.reshape((-1, preproc_french_sentences.shape[-2]))\n",
    "\n",
    "# Train the neural network\n",
    "simple_bd_model = bd_model(\n",
    "    tmp_x.shape,\n",
    "    max_french_sequence_length,\n",
    "    english_vocab_size,\n",
    "    french_vocab_size)\n",
    "simple_bd_model.fit(tmp_x, preproc_french_sentences, batch_size=1024, epochs=10, validation_split=0.2)\n",
    "\n",
    "# Print prediction(s)\n",
    "print(logits_to_text(simple_bd_model.predict(tmp_x[:1])[0], french_tokenizer))"
   ]
  },
  {
   "cell_type": "code",
   "execution_count": 16,
   "metadata": {
    "scrolled": true
   },
   "outputs": [
    {
     "name": "stdout",
     "output_type": "stream",
     "text": [
      "new jersey is sometimes quiet during autumn and it is snowy in april         \n",
      "new jersey est parfois calme pendant l' et il est neigeux en en        \n",
      "\n",
      "\n",
      "the united states is usually chilly during july and it is usually freezing in november       \n",
      "les états unis est généralement froid en juillet et il gèle habituellement en en novembre      \n",
      "\n",
      "\n",
      "california is usually quiet during march and it is usually hot in june         \n",
      "californie est généralement calme en mars et il est généralement chaud en juin        \n",
      "\n",
      "\n",
      "the united states is sometimes mild during june and it is cold in september        \n",
      "les états unis est parfois doux en juin et il est froid en septembre       \n",
      "\n",
      "\n",
      "your least liked fruit is the grape but my least liked is the apple        \n",
      "votre fruit moins des aimé le raisin mais mon moins aimé est la pomme       \n",
      "\n",
      "\n",
      "his favorite fruit is the orange but my favorite is the grape          \n",
      "son fruit préféré est l'orange mais mon mon préféré est           \n",
      "\n",
      "\n",
      "paris is relaxing during december but it is usually chilly in july          \n",
      "paris est relaxant en décembre mais il est généralement froid en juillet         \n",
      "\n",
      "\n",
      "new jersey is busy during spring and it is never hot in march         \n",
      "new jersey est occupé au printemps et il est jamais chaud en mars        \n",
      "\n",
      "\n",
      "our least liked fruit is the lemon but my least liked is the grape        \n",
      "notre moins est des aimé le citron mais mon moins aimé est le raisin       \n",
      "\n",
      "\n",
      "the united states is sometimes busy during january and it is sometimes warm in november       \n",
      "les états unis est parfois occupé en janvier et il est parfois chaud en novembre      \n",
      "\n",
      "\n",
      "the lime is her least liked fruit but the banana is my least liked        \n",
      "la chaux est son moins moins aimé mais mais la est mon moins aimé aimé      \n",
      "\n",
      "\n",
      "he saw a old yellow truck                \n",
      "il a vu vieux camion camion               \n",
      "\n",
      "\n",
      "india is rainy during june and it is sometimes warm in november          \n",
      "l' inde est en juin et il est parfois chaud en novembre         \n",
      "\n",
      "\n",
      "that cat was my most loved animal               \n",
      "ce chat était mon animal plus plus aimé             \n",
      "\n",
      "\n",
      "he dislikes grapefruit limes and lemons                \n",
      "il aime le pamplemousse verts citrons et citrons verts            \n",
      "\n",
      "\n",
      "her least liked fruit is the lemon but his least liked is the grapefruit        \n",
      "son fruit est aimé aimé le citron mais son moins aimé est le pamplemousse       \n",
      "\n",
      "\n",
      "california is never cold during february but it is sometimes freezing in june         \n",
      "californie est fait jamais froid en février mais il est parfois le gel en       \n",
      "\n",
      "\n",
      "china is usually pleasant during autumn and it is usually quiet in october         \n",
      "chine est généralement agréable agréable l' et il est généralement calme en octobre octobre       \n",
      "\n",
      "\n",
      "paris is never freezing during november but it is wonderful in october          \n",
      "paris est jamais jamais gel au novembre mais il est merveilleux en en        \n",
      "\n",
      "\n",
      "the united states is never rainy during january but it is sometimes mild in october       \n",
      "les états unis est jamais pluvieux en janvier mais il est parfois doux en octobre      \n",
      "\n",
      "\n"
     ]
    }
   ],
   "source": [
    "for i in range(20):\n",
    "    print(tokens_to_text(tmp_x[i:i+1], english_tokenizer).replace('<PAD>', ''))\n",
    "    prediction = simple_bd_model.predict(tmp_x[i:i+1])\n",
    "    print(logits_to_text(prediction[0], french_tokenizer).replace('<PAD>', ''))\n",
    "    print(\"\\n\")"
   ]
  },
  {
   "cell_type": "markdown",
   "metadata": {},
   "source": [
    "### Model 4: Encoder-Decoder (OPTIONAL)\n",
    "Time to look at encoder-decoder models.  This model is made up of an encoder and decoder. The encoder creates a matrix representation of the sentence.  The decoder takes this matrix as input and predicts the translation as output.\n",
    "\n",
    "Create an encoder-decoder model in the cell below."
   ]
  },
  {
   "cell_type": "code",
   "execution_count": 18,
   "metadata": {
    "scrolled": false
   },
   "outputs": [
    {
     "name": "stdout",
     "output_type": "stream",
     "text": [
      "input_shape: (137861, 21, 1)\n",
      "output_sequence_length: 21\n",
      "english_vocab_size: 199\n",
      "french_vocab_size: 344\n",
      "\n",
      "\n",
      "Epoch 1/10\n",
      "862/862 [==============================] - 7s 9ms/step - loss: 1.8019 - accuracy: 0.5588 - val_loss: nan - val_accuracy: 0.6132\n",
      "Epoch 2/10\n",
      "862/862 [==============================] - 7s 8ms/step - loss: 1.2923 - accuracy: 0.6320 - val_loss: nan - val_accuracy: 0.6512\n",
      "Epoch 3/10\n",
      "862/862 [==============================] - 7s 8ms/step - loss: 1.1894 - accuracy: 0.6554 - val_loss: nan - val_accuracy: 0.6713\n",
      "Epoch 4/10\n",
      "862/862 [==============================] - 7s 8ms/step - loss: 1.1180 - accuracy: 0.6674 - val_loss: nan - val_accuracy: 0.6752\n",
      "Epoch 5/10\n",
      "862/862 [==============================] - 7s 8ms/step - loss: 1.0033 - accuracy: 0.6896 - val_loss: nan - val_accuracy: 0.7005\n",
      "Epoch 6/10\n",
      "862/862 [==============================] - 7s 8ms/step - loss: 0.9076 - accuracy: 0.7100 - val_loss: nan - val_accuracy: 0.7048\n",
      "Epoch 7/10\n",
      "862/862 [==============================] - 7s 8ms/step - loss: 0.8695 - accuracy: 0.7169 - val_loss: nan - val_accuracy: 0.7268\n",
      "Epoch 8/10\n",
      "862/862 [==============================] - 7s 8ms/step - loss: 0.8107 - accuracy: 0.7320 - val_loss: nan - val_accuracy: 0.6795\n",
      "Epoch 9/10\n",
      "862/862 [==============================] - 7s 8ms/step - loss: 0.7724 - accuracy: 0.7408 - val_loss: nan - val_accuracy: 0.7540\n",
      "Epoch 10/10\n",
      "862/862 [==============================] - 7s 8ms/step - loss: 0.6863 - accuracy: 0.7645 - val_loss: nan - val_accuracy: 0.7764\n",
      "new jersey est parfois chaud au mois et il est il est en en avril <PAD> <PAD> <PAD> <PAD> <PAD> <PAD>\n"
     ]
    }
   ],
   "source": [
    "\n",
    "def encdec_model(input_shape, output_sequence_length, english_vocab_size, french_vocab_size):\n",
    "    \"\"\"\n",
    "    Build and train an encoder-decoder model on x and y\n",
    "    :param input_shape: Tuple of input shape\n",
    "    :param output_sequence_length: Length of output sequence\n",
    "    :param english_vocab_size: Number of unique English words in the dataset\n",
    "    :param french_vocab_size: Number of unique French words in the dataset\n",
    "    :return: Keras model built, but not trained\n",
    "    \"\"\"\n",
    "    # OPTIONAL: Implement\n",
    "    print(\"input_shape: {}\".format(input_shape))\n",
    "    print(\"output_sequence_length: {}\".format(output_sequence_length))\n",
    "    print(\"english_vocab_size: {}\".format(english_vocab_size))\n",
    "    print(\"french_vocab_size: {}\".format(french_vocab_size))\n",
    "    print(\"\\n\")\n",
    "    gru_units = 256\n",
    "    fc_units  = 256\n",
    "    \n",
    "    input_seq = Input(input_shape[1:])\n",
    "    \n",
    "    encoder_rnn = GRU(gru_units, return_sequences=False)(input_seq)\n",
    "    #print(\"encoder_rnn.shape: {}\".format(encoder_rnn.shape))\n",
    "    \n",
    "    repeat_vector = RepeatVector(output_sequence_length)(encoder_rnn)\n",
    "    #print(\"repeat_vector.shape: {}\".format(repeat_vector.shape))\n",
    "    \n",
    "    decoder_rnn = GRU(gru_units, return_sequences=True)(repeat_vector)\n",
    "    #print(\"decoder_rnn.shape: {}\".format(decoder_rnn.shape))\n",
    "    \n",
    "    fc_layer = Dense(fc_units, activation='relu')(decoder_rnn)\n",
    "    \n",
    "    logits = TimeDistributed(Dense(french_vocab_size))(fc_layer)\n",
    "\n",
    "    model = Model(input_seq, Activation('softmax')(logits))\n",
    "    \n",
    "    learning_rate = 1e-3 \n",
    "    model.compile(loss=sparse_categorical_crossentropy,\n",
    "                  optimizer=Adam(learning_rate),\n",
    "                  metrics=['accuracy'])\n",
    "    return model\n",
    "\n",
    "#tests.test_encdec_model(encdec_model)\n",
    "\n",
    "\n",
    "# OPTIONAL: Train and Print prediction(s)\n",
    "# Reshape the input\n",
    "tmp_x = pad(preproc_english_sentences, max_french_sequence_length)\n",
    "tmp_x = tmp_x.reshape((-1, preproc_french_sentences.shape[-2], 1))\n",
    "\n",
    "# Train the neural network\n",
    "simple_encdec_model = encdec_model(\n",
    "    tmp_x.shape,\n",
    "    max_french_sequence_length,\n",
    "    english_vocab_size,\n",
    "    french_vocab_size)\n",
    "simple_encdec_model.fit(tmp_x, preproc_french_sentences, batch_size=128, epochs=10, validation_split=0.2)\n",
    "\n",
    "# Print prediction(s)\n",
    "print(logits_to_text(simple_encdec_model.predict(tmp_x[:1])[0], french_tokenizer))\n",
    "\n"
   ]
  },
  {
   "cell_type": "markdown",
   "metadata": {},
   "source": [
    "### Model 5: Custom (IMPLEMENTATION)\n",
    "Use everything you learned from the previous models to create a model that incorporates embedding and a bidirectional rnn into one model."
   ]
  },
  {
   "cell_type": "code",
   "execution_count": 22,
   "metadata": {
    "scrolled": false
   },
   "outputs": [
    {
     "name": "stdout",
     "output_type": "stream",
     "text": [
      "Final Model Loaded\n",
      "input_shape: (137861, 21)\n",
      "output_sequence_length: 21\n",
      "english_vocab_size: 199\n",
      "french_vocab_size: 344\n",
      "\n",
      "\n",
      "input_seq.shape: (None, 21)\n",
      "embedding.shape: (None, 21, 256)\n",
      "Epoch 1/10\n",
      "862/862 [==============================] - 14s 17ms/step - loss: 1.3216 - accuracy: 0.6638 - val_loss: nan - val_accuracy: 0.7729\n",
      "Epoch 2/10\n",
      "862/862 [==============================] - 14s 16ms/step - loss: 0.5748 - accuracy: 0.8295 - val_loss: nan - val_accuracy: 0.8816\n",
      "Epoch 3/10\n",
      "862/862 [==============================] - 14s 16ms/step - loss: 0.2853 - accuracy: 0.9181 - val_loss: nan - val_accuracy: 0.9414\n",
      "Epoch 4/10\n",
      "862/862 [==============================] - 14s 16ms/step - loss: 0.1774 - accuracy: 0.9475 - val_loss: nan - val_accuracy: 0.9563\n",
      "Epoch 5/10\n",
      "862/862 [==============================] - 14s 16ms/step - loss: 0.1287 - accuracy: 0.9608 - val_loss: nan - val_accuracy: 0.9631\n",
      "Epoch 6/10\n",
      "862/862 [==============================] - 14s 16ms/step - loss: 0.1075 - accuracy: 0.9669 - val_loss: nan - val_accuracy: 0.9670\n",
      "Epoch 7/10\n",
      "862/862 [==============================] - 14s 16ms/step - loss: 0.0868 - accuracy: 0.9730 - val_loss: nan - val_accuracy: 0.9698\n",
      "Epoch 8/10\n",
      "862/862 [==============================] - 14s 16ms/step - loss: 0.0754 - accuracy: 0.9765 - val_loss: nan - val_accuracy: 0.9742\n",
      "Epoch 9/10\n",
      "862/862 [==============================] - 14s 16ms/step - loss: 0.0677 - accuracy: 0.9791 - val_loss: nan - val_accuracy: 0.9737\n",
      "Epoch 10/10\n",
      "862/862 [==============================] - 14s 16ms/step - loss: 0.0640 - accuracy: 0.9802 - val_loss: nan - val_accuracy: 0.9757\n",
      "WARNING:tensorflow:6 out of the last 26 calls to <function Model.make_predict_function.<locals>.predict_function at 0x7f011906cea0> triggered tf.function retracing. Tracing is expensive and the excessive number of tracings could be due to (1) creating @tf.function repeatedly in a loop, (2) passing tensors with different shapes, (3) passing Python objects instead of tensors. For (1), please define your @tf.function outside of the loop. For (2), @tf.function has experimental_relax_shapes=True option that relaxes argument shapes that can avoid unnecessary retracing. For (3), please refer to https://www.tensorflow.org/tutorials/customization/performance#python_or_tensor_args and https://www.tensorflow.org/api_docs/python/tf/function for  more details.\n",
      "new jersey est parfois calme pendant l' automne et il est neigeux en avril <PAD> <PAD> <PAD> <PAD> <PAD> <PAD> <PAD>\n"
     ]
    }
   ],
   "source": [
    "def model_final(input_shape, output_sequence_length, english_vocab_size, french_vocab_size):\n",
    "    \"\"\"\n",
    "    Build and train a model that incorporates embedding, encoder-decoder, and bidirectional RNN on x and y\n",
    "    :param input_shape: Tuple of input shape\n",
    "    :param output_sequence_length: Length of output sequence\n",
    "    :param english_vocab_size: Number of unique English words in the dataset\n",
    "    :param french_vocab_size: Number of unique French words in the dataset\n",
    "    :return: Keras model built, but not trained\n",
    "    \"\"\"\n",
    "    # TODO: Implement\n",
    "    print(\"input_shape: {}\".format(input_shape))\n",
    "    print(\"output_sequence_length: {}\".format(output_sequence_length))\n",
    "    print(\"english_vocab_size: {}\".format(english_vocab_size))\n",
    "    print(\"french_vocab_size: {}\".format(french_vocab_size))\n",
    "    print(\"\\n\")\n",
    "    learning_rate = 1e-3 \n",
    "    embedding_size = 256\n",
    "    gru_units = 256\n",
    "    fc_units  = 256\n",
    "    \n",
    "    input_seq = Input(input_shape[1:])\n",
    "    \n",
    "    print(\"input_seq.shape: {}\".format(input_seq.shape))\n",
    "    embedding = Embedding(english_vocab_size+1, embedding_size, input_length=input_shape[1])(input_seq)\n",
    "    print(\"embedding.shape: {}\".format(embedding.shape))\n",
    "    \n",
    "    #encoder_rnn = GRU(gru_units, return_sequences=False)(embedding)\n",
    "    #print(\"encoder_rnn.shape: {}\".format(encoder_rnn.shape))\n",
    "    \n",
    "    forward_encoder_layer  = GRU(gru_units, return_sequences=False)\n",
    "    backward_encoder_layer = GRU(gru_units, return_sequences=False, go_backwards=True)\n",
    "    encoder_rnn = Bidirectional(forward_encoder_layer, backward_layer=backward_encoder_layer)(embedding)\n",
    "    \n",
    "    repeat_vector = RepeatVector(output_sequence_length)(encoder_rnn)\n",
    "    #print(\"repeat_vector.shape: {}\".format(repeat_vector.shape))\n",
    "    \n",
    "    #decoder_rnn = GRU(gru_units, return_sequences=True)(repeat_vector)\n",
    "    \n",
    "    forward_decoder_layer  = GRU(gru_units, return_sequences=True)\n",
    "    backward_decoder_layer = GRU(gru_units, return_sequences=True, go_backwards=True)\n",
    "    decoder_rnn = Bidirectional(forward_decoder_layer, backward_layer=backward_decoder_layer)(repeat_vector)\n",
    "    \n",
    "    #print(\"decoder_rnn.shape: {}\".format(decoder_rnn.shape))\n",
    "    \n",
    "    fc_layer = Dense(fc_units, activation='relu')(decoder_rnn)\n",
    "    \n",
    "    logits = TimeDistributed(Dense(french_vocab_size))(decoder_rnn)\n",
    "\n",
    "    model = Model(input_seq, Activation('softmax')(logits))\n",
    "    \n",
    "    \n",
    "    model.compile(loss=sparse_categorical_crossentropy,\n",
    "                  optimizer=Adam(learning_rate),\n",
    "                  metrics=['accuracy'])\n",
    "    return model\n",
    "\n",
    "#tests.test_model_final(model_final)\n",
    "\n",
    "\n",
    "print('Final Model Loaded')\n",
    "# Reshape the input\n",
    "tmp_x = pad(preproc_english_sentences, max_french_sequence_length)\n",
    "tmp_x = tmp_x.reshape((-1, preproc_french_sentences.shape[-2]))\n",
    "\n",
    "# Train the neural network\n",
    "model = model_final(\n",
    "    tmp_x.shape,\n",
    "    max_french_sequence_length,\n",
    "    english_vocab_size,\n",
    "    french_vocab_size)\n",
    "model.fit(tmp_x, preproc_french_sentences, batch_size=128, epochs=10, validation_split=0.2)\n",
    "\n",
    "# Print prediction(s)\n",
    "print(logits_to_text(model.predict(tmp_x[:1])[0], french_tokenizer))"
   ]
  },
  {
   "cell_type": "markdown",
   "metadata": {},
   "source": [
    "## Prediction (IMPLEMENTATION)"
   ]
  },
  {
   "cell_type": "code",
   "execution_count": null,
   "metadata": {},
   "outputs": [],
   "source": [
    "def final_predictions(x, y, x_tk, y_tk):\n",
    "    \"\"\"\n",
    "    Gets predictions using the final model\n",
    "    :param x: Preprocessed English data\n",
    "    :param y: Preprocessed French data\n",
    "    :param x_tk: English tokenizer\n",
    "    :param y_tk: French tokenizer\n",
    "    \"\"\"\n",
    "    # TODO: Train neural network using model_final\n",
    "    model = None\n",
    "\n",
    "    \n",
    "    ## DON'T EDIT ANYTHING BELOW THIS LINE\n",
    "    y_id_to_word = {value: key for key, value in y_tk.word_index.items()}\n",
    "    y_id_to_word[0] = '<PAD>'\n",
    "\n",
    "    sentence = 'he saw a old yellow truck'\n",
    "    sentence = [x_tk.word_index[word] for word in sentence.split()]\n",
    "    sentence = pad_sequences([sentence], maxlen=x.shape[-1], padding='post')\n",
    "    sentences = np.array([sentence[0], x[0]])\n",
    "    predictions = model.predict(sentences, len(sentences))\n",
    "\n",
    "    print('Sample 1:')\n",
    "    print(' '.join([y_id_to_word[np.argmax(x)] for x in predictions[0]]))\n",
    "    print('Il a vu un vieux camion jaune')\n",
    "    print('Sample 2:')\n",
    "    print(' '.join([y_id_to_word[np.argmax(x)] for x in predictions[1]]))\n",
    "    print(' '.join([y_id_to_word[np.max(x)] for x in y[0]]))\n",
    "\n",
    "\n",
    "final_predictions(preproc_english_sentences, preproc_french_sentences, english_tokenizer, french_tokenizer)"
   ]
  },
  {
   "cell_type": "markdown",
   "metadata": {},
   "source": [
    "## Submission\n",
    "When you're ready to submit, complete the following steps:\n",
    "1. Review the [rubric](https://review.udacity.com/#!/rubrics/1004/view) to ensure your submission meets all requirements to pass\n",
    "2. Generate an HTML version of this notebook\n",
    "\n",
    "  - Run the next cell to attempt automatic generation (this is the recommended method in Workspaces)\n",
    "  - Navigate to **FILE -> Download as -> HTML (.html)**\n",
    "  - Manually generate a copy using `nbconvert` from your shell terminal\n",
    "```\n",
    "$ pip install nbconvert\n",
    "$ python -m nbconvert machine_translation.ipynb\n",
    "```\n",
    "  \n",
    "3. Submit the project\n",
    "\n",
    "  - If you are in a Workspace, simply click the \"Submit Project\" button (bottom towards the right)\n",
    "  \n",
    "  - Otherwise, add the following files into a zip archive and submit them \n",
    "  - `helper.py`\n",
    "  - `machine_translation.ipynb`\n",
    "  - `machine_translation.html`\n",
    "    - You can export the notebook by navigating to **File -> Download as -> HTML (.html)**."
   ]
  },
  {
   "cell_type": "markdown",
   "metadata": {},
   "source": [
    "### Generate the html\n",
    "\n",
    "**Save your notebook before running the next cell to generate the HTML output.** Then submit your project."
   ]
  },
  {
   "cell_type": "code",
   "execution_count": 2,
   "metadata": {},
   "outputs": [
    {
     "data": {
      "text/plain": [
       "['[NbConvertApp] Converting notebook machine_translation.ipynb to html',\n",
       " '[NbConvertApp] Writing 305996 bytes to machine_translation.html']"
      ]
     },
     "execution_count": 2,
     "metadata": {},
     "output_type": "execute_result"
    }
   ],
   "source": [
    "# Save before you run this cell!\n",
    "!!jupyter nbconvert *.ipynb"
   ]
  },
  {
   "cell_type": "markdown",
   "metadata": {},
   "source": [
    "## Optional Enhancements\n",
    "\n",
    "This project focuses on learning various network architectures for machine translation, but we don't evaluate the models according to best practices by splitting the data into separate test & training sets -- so the model accuracy is overstated. Use the [`sklearn.model_selection.train_test_split()`](http://scikit-learn.org/stable/modules/generated/sklearn.model_selection.train_test_split.html) function to create separate training & test datasets, then retrain each of the models using only the training set and evaluate the prediction accuracy using the hold out test set. Does the \"best\" model change?"
   ]
  }
 ],
 "metadata": {
  "kernelspec": {
   "display_name": "Python 3",
   "language": "python",
   "name": "python3"
  },
  "language_info": {
   "codemirror_mode": {
    "name": "ipython",
    "version": 3
   },
   "file_extension": ".py",
   "mimetype": "text/x-python",
   "name": "python",
   "nbconvert_exporter": "python",
   "pygments_lexer": "ipython3",
   "version": "3.6.9"
  }
 },
 "nbformat": 4,
 "nbformat_minor": 1
}
